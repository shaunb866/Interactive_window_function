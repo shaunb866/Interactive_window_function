{
 "cells": [
  {
   "cell_type": "code",
   "execution_count": 1,
   "metadata": {
    "scrolled": false
   },
   "outputs": [
    {
     "data": {
      "application/vnd.jupyter.widget-view+json": {
       "model_id": "f4c24b67ef64478c819372a5b8ca202c",
       "version_major": 2,
       "version_minor": 0
      },
      "text/plain": [
       "VBox(children=(Figure(axes=[Axis(scale=LinearScale()), Axis(orientation='vertical', scale=LinearScale())], fig…"
      ]
     },
     "metadata": {},
     "output_type": "display_data"
    }
   ],
   "source": [
    "import numpy as np\n",
    "from Interactive_window_function import plotterer\n",
    "\n",
    "def log_norm(k,R,mu,sigma):\n",
    "    y=np.exp(-0.5*(np.log10(k*R)-mu)**2/sigma**2)\n",
    "\n",
    "    return(y)\n",
    "\n",
    "#start with an inital geuss\n",
    "k=np.logspace(-2,2,30)\n",
    "W=log_norm(k,1,0.5,0.2) #this is the optimal log-normal gaussian, seems a good place to start\n",
    "\n",
    "#run interactive plot\n",
    "plotterer(k,W)\n",
    "\n",
    "\n",
    "\n"
   ]
  }
 ],
 "metadata": {
  "kernelspec": {
   "display_name": "Python 3",
   "language": "python",
   "name": "python3"
  },
  "language_info": {
   "codemirror_mode": {
    "name": "ipython",
    "version": 3
   },
   "file_extension": ".py",
   "mimetype": "text/x-python",
   "name": "python",
   "nbconvert_exporter": "python",
   "pygments_lexer": "ipython3",
   "version": "3.6.9"
  }
 },
 "nbformat": 4,
 "nbformat_minor": 4
}
